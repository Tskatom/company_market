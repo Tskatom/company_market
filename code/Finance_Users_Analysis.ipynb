{
 "metadata": {
  "name": "Finance_Users_Analysis"
 },
 "nbformat": 3,
 "nbformat_minor": 0,
 "worksheets": [
  {
   "cells": [
    {
     "cell_type": "heading",
     "level": 1,
     "metadata": {},
     "source": [
      "Analyze the users profile"
     ]
    },
    {
     "cell_type": "raw",
     "metadata": {},
     "source": [
      "1. "
     ]
    },
    {
     "cell_type": "code",
     "collapsed": false,
     "input": [
      "\n",
      "import json\n",
      "import glob\n",
      "import os\n",
      "import sys\n",
      "\n",
      "company_user_folder = \"/raid/tskatom/company_users/\"\n",
      "user_files = glob.glob(os.path.join(company_user_folder, \"*\"))\n",
      "\n",
      "aeo_file = glob.glob(os.path.join(company_user_folder, \"AEO\"))[0]\n",
      "aeo = json.load(open(aeo_file))"
     ],
     "language": "python",
     "metadata": {},
     "outputs": [],
     "prompt_number": "*"
    },
    {
     "cell_type": "code",
     "collapsed": false,
     "input": [],
     "language": "python",
     "metadata": {},
     "outputs": []
    },
    {
     "cell_type": "code",
     "collapsed": false,
     "input": [
      "names = [aeo[uid][\"info\"][\"screen_name\"] for uid in aeo if 1.0 * aeo[uid][\"urls\"]/ (aeo[uid][\"urls\"]+aeo[uid][\"non_urls\"]) > 0.6]"
     ],
     "language": "python",
     "metadata": {},
     "outputs": [],
     "prompt_number": 30
    },
    {
     "cell_type": "code",
     "collapsed": false,
     "input": [
      "len(ids)"
     ],
     "language": "python",
     "metadata": {},
     "outputs": [],
     "prompt_number": "*"
    },
    {
     "cell_type": "code",
     "collapsed": false,
     "input": [
      "orag_counts = 0\n",
      "indi_counts = 0\n",
      "for uid in aeo.keys():\n",
      "    if uid in ids:\n",
      "        orag_counts += aeo[uid][\"urls\"]+aeo[uid][\"non_urls\"]\n",
      "    else:\n",
      "        indi_counts += aeo[uid][\"urls\"]+aeo[uid][\"non_urls\"]\n",
      "        "
     ],
     "language": "python",
     "metadata": {},
     "outputs": [],
     "prompt_number": "*"
    },
    {
     "cell_type": "code",
     "collapsed": false,
     "input": [
      "plt.hist(ratios, bins=np.arange(0,1,0.01))\n",
      "plt.show()\n"
     ],
     "language": "python",
     "metadata": {},
     "outputs": [
      {
       "output_type": "display_data",
       "png": "[encoded data removed]"
      }
     ],
     "prompt_number": 26
    },
    {
     "cell_type": "code",
     "collapsed": false,
     "input": [
      "plt.hist(ratios, 100)"
     ],
     "language": "python",
     "metadata": {},
     "outputs": [
      {
       "output_type": "pyout",
       "prompt_number": 12,
       "text": [
        "(array([493940,     16,     26,     45,     47,     64,     76,    105,\n",
        "           75,     97,    125,    148,    203,     17,    266,     35,\n",
        "          399,     10,     40,      6,    623,     14,     52,     11,\n",
        "            3,   1008,      6,     14,     90,      4,     16,      6,\n",
        "            3,   2106,      0,     10,     16,     34,      6,      1,\n",
        "          218,     14,     52,      5,     18,      9,     16,      3,\n",
        "            4,      0,   5853,      3,      3,     13,     12,     21,\n",
        "            5,     45,      6,      2,    175,      7,     31,     11,\n",
        "           11,      8,    960,      5,      8,     34,      6,     52,\n",
        "           18,      7,      2,    356,     15,     25,     11,      7,\n",
        "          195,     16,     19,    117,     16,     90,     20,     67,\n",
        "           43,     10,     69,     31,     49,     30,     40,     39,\n",
        "           54,     39,     42,  86116]),\n",
        " array([ 0.  ,  0.01,  0.02,  0.03,  0.04,  0.05,  0.06,  0.07,  0.08,\n",
        "        0.09,  0.1 ,  0.11,  0.12,  0.13,  0.14,  0.15,  0.16,  0.17,\n",
        "        0.18,  0.19,  0.2 ,  0.21,  0.22,  0.23,  0.24,  0.25,  0.26,\n",
        "        0.27,  0.28,  0.29,  0.3 ,  0.31,  0.32,  0.33,  0.34,  0.35,\n",
        "        0.36,  0.37,  0.38,  0.39,  0.4 ,  0.41,  0.42,  0.43,  0.44,\n",
        "        0.45,  0.46,  0.47,  0.48,  0.49,  0.5 ,  0.51,  0.52,  0.53,\n",
        "        0.54,  0.55,  0.56,  0.57,  0.58,  0.59,  0.6 ,  0.61,  0.62,\n",
        "        0.63,  0.64,  0.65,  0.66,  0.67,  0.68,  0.69,  0.7 ,  0.71,\n",
        "        0.72,  0.73,  0.74,  0.75,  0.76,  0.77,  0.78,  0.79,  0.8 ,\n",
        "        0.81,  0.82,  0.83,  0.84,  0.85,  0.86,  0.87,  0.88,  0.89,\n",
        "        0.9 ,  0.91,  0.92,  0.93,  0.94,  0.95,  0.96,  0.97,  0.98,\n",
        "        0.99,  1.  ]),\n",
        " <a list of 100 Patch objects>)"
       ]
      },
      {
       "output_type": "display_data",
       "png": "[encoded data removed]"
      }
     ],
     "prompt_number": 12
    }
   ],
   "metadata": {}
  }
 ]
}