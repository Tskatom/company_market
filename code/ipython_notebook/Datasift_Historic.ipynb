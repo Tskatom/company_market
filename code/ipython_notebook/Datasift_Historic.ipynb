{
 "metadata": {
  "name": "Datasift_Historic"
 },
 "nbformat": 3,
 "nbformat_minor": 0,
 "worksheets": [
  {
   "cells": [
    {
     "cell_type": "code",
     "collapsed": false,
     "input": [
      "import sys\n",
      "import datasift\n",
      "path = '/home/weiwang/workspace/company_market/code/datasift/'\n",
      "sys.path.insert(0, path)\n",
      "import config\n",
      "from datetime import datetime\n",
      "\n",
      "def consume(company, csdl_path, start, end, sources, sample):\n",
      "    csdl = open(csdl_path).read()\n",
      "    user = datasift.User(config.username, config.api_key)\n",
      "    definition = user.create_definition(csdl)\n",
      "    \n",
      "    informat = \"%Y-%m-%d %H:%M:%S\"\n",
      "    outformat = \"%s\"\n",
      "    start_epo = datetime.strptime(start, informat).strftime(outformat)\n",
      "    end_epo = datetime.strptime(end, informat).strftime(outformat)\n",
      "    \n",
      "    name = \"new_%s_Historic_%s_%s\" % (company, start[0:10], end[0:10])\n",
      "    historic = definition.create_historic(start_epo, end_epo, sources, sample, name)\n",
      "    print \"The DPUs cost is\", historic.get_dpus()\n",
      "    #create a pushDefinition\n",
      "    pushDef = user.create_push_definition()\n",
      "    param_str = \"method=POST delivery_frequency=10 url=http://38.68.233.95:8787 auth.type=none\"\n",
      "    for param in param_str.split(\" \"):\n",
      "        k,v = param.split(\"=\")\n",
      "        pushDef.set_output_param(k, v)\n",
      "    pushDef.set_output_type(\"http\")\n",
      "    pushDef.validate()\n",
      "    #create a subscription\n",
      "    pushSub = pushDef.subscribe_historic(historic, \"Sub_%s\" % name)\n",
      "    \n",
      "    #start the historic query\n",
      "    historic.start()\n",
      "\n",
      "company = \"msft\"\n",
      "csdl_path = \"/home/weiwang/workspace/company_market/code/datasift/msft.main.csdl\"\n",
      "start = \"2014-01-20 00:00:00\"\n",
      "end = \"2014-01-22 23:59:59\"\n",
      "sources = [\"twitter\"]\n",
      "sample = 10\n",
      "consume(company, csdl_path, start, end, sources, sample)"
     ],
     "language": "python",
     "metadata": {},
     "outputs": [
      {
       "output_type": "stream",
       "stream": "stdout",
       "text": [
        "The DPUs cost is "
       ]
      },
      {
       "output_type": "stream",
       "stream": "stdout",
       "text": [
        "28.7998888889\n"
       ]
      }
     ],
     "prompt_number": 3
    },
    {
     "cell_type": "code",
     "collapsed": false,
     "input": [
      "company = \"goog\"\n",
      "csdl_path = \"/home/weiwang/workspace/company_market/code/datasift/goog.main.csdl\"\n",
      "start = \"2013-10-13 00:00:00\"\n",
      "end = \"2013-10-16 23:59:59\"\n",
      "sources = [\"twitter\"]\n",
      "sample = 10\n",
      "consume(company, csdl_path, start, end, sources, sample)"
     ],
     "language": "python",
     "metadata": {},
     "outputs": [
      {
       "output_type": "stream",
       "stream": "stdout",
       "text": [
        "The DPUs cost is "
       ]
      },
      {
       "output_type": "stream",
       "stream": "stdout",
       "text": [
        "38.3998888889\n"
       ]
      }
     ],
     "prompt_number": 15
    },
    {
     "cell_type": "code",
     "collapsed": false,
     "input": [
      "name = \"new_goog_Historic_2013-10-13_2013-10-16\"\n",
      "historics = datasift.User(config.username, config.api_key).list_historics()\n",
      "historics = historics['historics']\n",
      "for h in historics:\n",
      "    if h.get_name() == name:\n",
      "        msft_historic = h\n",
      "        print msft_historic.get_status(), msft_historic.get_progress()"
     ],
     "language": "python",
     "metadata": {},
     "outputs": [
      {
       "output_type": "stream",
       "stream": "stdout",
       "text": [
        "succeeded 100\n"
       ]
      }
     ],
     "prompt_number": 18
    },
    {
     "cell_type": "code",
     "collapsed": false,
     "input": [
      "from glob import glob\n",
      "import json\n",
      "files = glob(\"/tmp/DataSift-f2892c75546475f2368dbdadb4f4aca1*\")\n",
      "total = 0\n",
      "for f in files:\n",
      "    print f\n",
      "    try:\n",
      "        ts = json.load(open(f))\n",
      "        total += ts[\"count\"]\n",
      "    except:\n",
      "        print f\n",
      "print total\n"
     ],
     "language": "python",
     "metadata": {},
     "outputs": [
      {
       "output_type": "stream",
       "stream": "stdout",
       "text": [
        "/tmp/DataSift-f2892c75546475f2368dbdadb4f4aca1-1390720006.json\n",
        "/tmp/DataSift-f2892c75546475f2368dbdadb4f4aca1-1390720397.json\n",
        "/tmp/DataSift-f2892c75546475f2368dbdadb4f4aca1-1390720521.json\n",
        "/tmp/DataSift-f2892c75546475f2368dbdadb4f4aca1-1390721088.json\n",
        "/tmp/DataSift-f2892c75546475f2368dbdadb4f4aca1-1390720438.json\n",
        "/tmp/DataSift-f2892c75546475f2368dbdadb4f4aca1-1390720480.json\n",
        "/tmp/DataSift-f2892c75546475f2368dbdadb4f4aca1-1390720314.json\n",
        "/tmp/DataSift-f2892c75546475f2368dbdadb4f4aca1-1390720985.json\n",
        "/tmp/DataSift-f2892c75546475f2368dbdadb4f4aca1-1390720882.json\n",
        "/tmp/DataSift-f2892c75546475f2368dbdadb4f4aca1-1390720324.json\n",
        "/tmp/DataSift-f2892c75546475f2368dbdadb4f4aca1-1390719840.json\n",
        "/tmp/DataSift-f2892c75546475f2368dbdadb4f4aca1-1390720212.json\n",
        "/tmp/DataSift-f2892c75546475f2368dbdadb4f4aca1-1390720562.json\n",
        "/tmp/DataSift-f2892c75546475f2368dbdadb4f4aca1-1390720139.json\n",
        "16\n"
       ]
      }
     ],
     "prompt_number": 17
    },
    {
     "cell_type": "code",
     "collapsed": false,
     "input": [
      "ts = json.load(open('/tmp/DataSift-f2e2da5ec79a2972d04688389179172d-1390714126.json'))\n",
      "for t in ts['interactions']:\n",
      "    pass\n",
      "print csdl\n",
      "    "
     ],
     "language": "python",
     "metadata": {},
     "outputs": [
      {
       "ename": "NameError",
       "evalue": "name 'json' is not defined",
       "output_type": "pyerr",
       "traceback": [
        "\u001b[0;31m---------------------------------------------------------------------------\u001b[0m\n\u001b[0;31mNameError\u001b[0m                                 Traceback (most recent call last)",
        "\u001b[0;32m<ipython-input-1-644ffaeae9e9>\u001b[0m in \u001b[0;36m<module>\u001b[0;34m()\u001b[0m\n\u001b[0;32m----> 1\u001b[0;31m \u001b[0mts\u001b[0m \u001b[0;34m=\u001b[0m \u001b[0mjson\u001b[0m\u001b[0;34m.\u001b[0m\u001b[0mload\u001b[0m\u001b[0;34m(\u001b[0m\u001b[0mopen\u001b[0m\u001b[0;34m(\u001b[0m\u001b[0;34m'/tmp/DataSift-f2e2da5ec79a2972d04688389179172d-1390714126.json'\u001b[0m\u001b[0;34m)\u001b[0m\u001b[0;34m)\u001b[0m\u001b[0;34m\u001b[0m\u001b[0m\n\u001b[0m\u001b[1;32m      2\u001b[0m \u001b[0;32mfor\u001b[0m \u001b[0mt\u001b[0m \u001b[0;32min\u001b[0m \u001b[0mts\u001b[0m\u001b[0;34m[\u001b[0m\u001b[0;34m'interactions'\u001b[0m\u001b[0;34m]\u001b[0m\u001b[0;34m:\u001b[0m\u001b[0;34m\u001b[0m\u001b[0m\n\u001b[1;32m      3\u001b[0m     \u001b[0;32mpass\u001b[0m\u001b[0;34m\u001b[0m\u001b[0m\n\u001b[1;32m      4\u001b[0m \u001b[0;32mprint\u001b[0m \u001b[0mcsdl\u001b[0m\u001b[0;34m\u001b[0m\u001b[0m\n\u001b[1;32m      5\u001b[0m \u001b[0;34m\u001b[0m\u001b[0m\n",
        "\u001b[0;31mNameError\u001b[0m: name 'json' is not defined"
       ]
      }
     ],
     "prompt_number": 1
    }
   ],
   "metadata": {}
  }
 ]
}