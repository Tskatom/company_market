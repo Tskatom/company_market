{
 "metadata": {
  "name": "Test"
 },
 "nbformat": 3,
 "nbformat_minor": 0,
 "worksheets": [
  {
   "cells": [
    {
     "cell_type": "code",
     "collapsed": false,
     "input": [
      "import random\n",
      "random.randint(10,20)\n",
      "random.sample(xrange(10000), 10)"
     ],
     "language": "python",
     "metadata": {},
     "outputs": [
      {
       "output_type": "pyout",
       "prompt_number": 5,
       "text": [
        "[5968, 2206, 5835, 5764, 8715, 1529, 2588, 6378, 2962, 7382]"
       ]
      }
     ],
     "prompt_number": 5
    }
   ],
   "metadata": {}
  }
 ]
}