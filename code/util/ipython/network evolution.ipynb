{
 "metadata": {
  "name": "network evolution"
 },
 "nbformat": 3,
 "nbformat_minor": 0,
 "worksheets": [
  {
   "cells": [
    {
     "cell_type": "code",
     "collapsed": false,
     "input": [
      "import json\n",
      "from collections import Counter\n",
      "file1 = '/raid/tskatom/venezuela_entities/2014-01-07'\n",
      "count = []\n",
      "with open(file1) as f1:\n",
      "    for line in f1:\n",
      "        t = json.loads(line)\n",
      "        #hashtage\n",
      "        count.extend([h for h in t['entities']['hashtags']])\n",
      "        #url\n",
      "        count.extend([u for u in t['entities']['urls']])\n",
      "e_counter = Counter(count)\n"
     ],
     "language": "python",
     "metadata": {},
     "outputs": [],
     "prompt_number": 25
    },
    {
     "cell_type": "code",
     "collapsed": false,
     "input": [
      "from operator import itemgetter\n",
      "thread = 50\n",
      "thread_count = [(k,v) for k,v in e_counter.iteritems() if v >=thread]\n",
      "thread_count.sort(key=itemgetter(1), reverse=True)"
     ],
     "language": "python",
     "metadata": {},
     "outputs": [],
     "prompt_number": 26
    },
    {
     "cell_type": "code",
     "collapsed": false,
     "input": [
      "import time\n",
      "\n",
      "filter_100 = '/raid/tskatom/venezuela_filtered_entities/100/2013-11-01_100'\n",
      "\n",
      "def construct_dict(input_file):\n",
      "    users = set()\n",
      "    terms = set()\n",
      "    start = time.time()\n",
      "    print start\n",
      "    with open(input_file) as input_f:\n",
      "        for line in input_f:\n",
      "            line = line.strip()\n",
      "            user, entry = line.split(\"|\")\n",
      "            entities = sorted(set(entry.split(\" \")))\n",
      "            users.add(user)\n",
      "            for e in entities:\n",
      "                terms.add(e)\n",
      "    user2id = {user:i for i, user in enumerate(users)}\n",
      "    user_num = len(users)\n",
      "    term2id = {term:i+user_num for i, term in enumerate(terms)}\n",
      "   \n",
      "    s2 = time.time()\n",
      "    print \"elipsed:[%d]\" % (s2 - start)\n",
      "    \n",
      "    feature_map = {v:[] for k,v in user2id.items()}\n",
      "    feature_map.update({v:[] for k,v in term2id.items()})\n",
      "    edge_num = 0\n",
      "    \n",
      "    s3 = time.time()\n",
      "    print \"elipsed:[%d]\" % (s3 - s2)\n",
      "    \n",
      "    #construct feature_edge_map\n",
      "    with open(input_file) as input_f:\n",
      "        for line in input_f:\n",
      "            line = line.strip()\n",
      "            user, entry = line.split(\"|\")\n",
      "            entities = sorted(set(entry.split(\" \")))\n",
      "            uid = user2id[user]\n",
      "            for term in entities:\n",
      "                tid = term2id[term]\n",
      "                feature_map[uid].append(edge_num)\n",
      "                feature_map[tid].append(edge_num)\n",
      "                edge_num += 1\n",
      "                \n",
      "    s4 = time.time()\n",
      "    print \"elipsed:[%d]\" % (s4 - s3)\n",
      "    \n",
      "    return user2id, term2id, feature_map, edge_num\n",
      "\n",
      "f_100_users, f_100_terms, f_100_nap, edge_num = construct_dict(filter_100)\n",
      "\n",
      "        "
     ],
     "language": "python",
     "metadata": {},
     "outputs": [
      {
       "output_type": "stream",
       "stream": "stdout",
       "text": [
        "1397769090.09\n",
        "elipsed:[0]"
       ]
      },
      {
       "output_type": "stream",
       "stream": "stdout",
       "text": [
        "\n",
        "elipsed:[0]"
       ]
      },
      {
       "output_type": "stream",
       "stream": "stdout",
       "text": [
        "\n",
        "elipsed:[0]"
       ]
      },
      {
       "output_type": "stream",
       "stream": "stdout",
       "text": [
        "\n"
       ]
      }
     ],
     "prompt_number": 1
    },
    {
     "cell_type": "code",
     "collapsed": false,
     "input": [
      "print edge_num\n",
      "import numpy as np\n",
      "import time\n",
      "\n",
      "def constructEdgesView(data_file, users, terms, fea_map, edge_num):\n",
      "    #construct edge view matrix\n",
      "    user_num = len(users)\n",
      "    term_num = len(terms)\n",
      "    \n",
      "    \n",
      "    with open(data_file) as input_f, open(\"/home/tskatom/2013-11-01_test\", \"w\") as wf:\n",
      "        edge_num = 0\n",
      "        for line in input_f:\n",
      "            line = line.strip()\n",
      "            user, entry = line.split(\"|\")\n",
      "            entities = sorted(set(entry.split(\" \")))\n",
      "            uid = users[user]\n",
      "            for term in entities:\n",
      "                tid = terms[term]\n",
      "                data = [0 for i in range(user_num + term_num)]\n",
      "                data[uid] = 1\n",
      "                data[tid] = 1\n",
      "                wf.write(\"%d %s\\n\") % (edge_num, \" \".join(map(str, data)))\n",
      "                edge_num += 1\n",
      "                \n",
      "start = time.time()\n",
      "edge_matrix = constructEdgesView(filter_100, f_100_users, f_100_terms, f_100_nap, edge_num)\n",
      "print \"Elpased: %d\" % (time.time() - start)\n",
      "        "
     ],
     "language": "python",
     "metadata": {},
     "outputs": [
      {
       "ename": "IndentationError",
       "evalue": "unexpected indent (<ipython-input-2-2a22d75c4599>, line 21)",
       "output_type": "pyerr",
       "traceback": [
        "\u001b[1;31mIndentationError\u001b[0m\u001b[1;31m:\u001b[0m unexpected indent\n"
       ]
      }
     ],
     "prompt_number": 2
    },
    {
     "cell_type": "code",
     "collapsed": false,
     "input": [
      "print edge_matrix\n",
      "np.where(edge_matrix[0] > 0)\n",
      "import random\n",
      "from scipy.spatial.distance import cosine\n",
      "\n",
      "def similarity(v1, v2):\n",
      "    return 1 - cosine(v1, v2)\n",
      "\n",
      "def cluster(k, fea_map, edge_matrix):\n",
      "    row, col = edge_matrix.shape\n",
      "    centroid_ids = random.sample(xrange(row), k)\n",
      "    centroids = [edge_matrix[i] for i in centroid_ids]\n",
      "    sim_scores = np.zeros(row)\n",
      "    labels = np.array([-1 for i in range(row)])\n",
      "    print centroids\n",
      "    for it_num in range(10):\n",
      "        for i, cent in enumerate(centroids):\n",
      "            #get the related sets\n",
      "            non_fea_ids = np.where(cent > 0)[0]\n",
      "            tmps = []\n",
      "            for fid in non_fea_ids:\n",
      "                tmps.extend(fea_map[fid])\n",
      "            related_edges = set(tmps)\n",
      "            print len(related_edges)\n",
      "            for j in related_edges:\n",
      "                score = similarity(cent, edge_matrix[j])\n",
      "                if score > sim_scores[j]:\n",
      "                    sim_scores[j] = score\n",
      "                    labels[j] = i\n",
      "            print \"Finish %d\" % i\n",
      "    \n",
      "        #get new centroids\n",
      "        #for i in range(k):\n",
      "        #    cids = np.where(labels == i)[0]\n",
      "        #    centroids[i] = np.mean(edge_matrix[cids], axis=0)\n",
      "            \n",
      "        print \"Done %d\" % it_num\n",
      "\n",
      "cluster(5, f_100_nap, edge_matrix)    "
     ],
     "language": "python",
     "metadata": {},
     "outputs": [
      {
       "output_type": "stream",
       "stream": "stdout",
       "text": [
        "[[ 0.  0.  0. ...,  0.  0.  0.]\n",
        " [ 0.  0.  0. ...,  0.  0.  0.]\n",
        " [ 0.  0.  0. ...,  0.  0.  0.]\n",
        " ..., \n",
        " [ 0.  0.  0. ...,  0.  0.  0.]\n",
        " [ 0.  0.  0. ...,  0.  0.  0.]\n",
        " [ 0.  0.  0. ...,  0.  0.  0.]]\n",
        "[array([ 0.,  0.,  0., ...,  0.,  0.,  0.]), array([ 0.,  0.,  0., ...,  0.,  0.,  0.]), array([ 0.,  0.,  0., ...,  0.,  0.,  0.]), array([ 0.,  0.,  0., ...,  0.,  0.,  0.]), array([ 0.,  0.,  0., ...,  0.,  0.,  0.])]"
       ]
      },
      {
       "output_type": "stream",
       "stream": "stdout",
       "text": [
        "\n",
        "2825\n",
        "Finish 0"
       ]
      },
      {
       "output_type": "stream",
       "stream": "stdout",
       "text": [
        "\n",
        "4593\n",
        "Finish 1"
       ]
      },
      {
       "output_type": "stream",
       "stream": "stdout",
       "text": [
        "\n",
        "6414\n",
        "Finish 2"
       ]
      },
      {
       "output_type": "stream",
       "stream": "stdout",
       "text": [
        "\n",
        "608\n",
        "Finish 3"
       ]
      },
      {
       "output_type": "stream",
       "stream": "stdout",
       "text": [
        "\n",
        "6409\n",
        "Finish 4"
       ]
      },
      {
       "output_type": "stream",
       "stream": "stdout",
       "text": [
        "\n",
        "Done 0"
       ]
      },
      {
       "ename": "KeyboardInterrupt",
       "evalue": "",
       "output_type": "pyerr",
       "traceback": [
        "\u001b[1;31m---------------------------------------------------------------------------\u001b[0m\n\u001b[1;31mKeyboardInterrupt\u001b[0m                         Traceback (most recent call last)",
        "\u001b[1;32m<ipython-input-4-aad82a018e05>\u001b[0m in \u001b[0;36m<module>\u001b[1;34m()\u001b[0m\n\u001b[0;32m     37\u001b[0m         \u001b[1;32mprint\u001b[0m \u001b[1;34m\"Done %d\"\u001b[0m \u001b[1;33m%\u001b[0m \u001b[0mit_num\u001b[0m\u001b[1;33m\u001b[0m\u001b[0m\n\u001b[0;32m     38\u001b[0m \u001b[1;33m\u001b[0m\u001b[0m\n\u001b[1;32m---> 39\u001b[1;33m \u001b[0mcluster\u001b[0m\u001b[1;33m(\u001b[0m\u001b[1;36m5\u001b[0m\u001b[1;33m,\u001b[0m \u001b[0mf_100_nap\u001b[0m\u001b[1;33m,\u001b[0m \u001b[0medge_matrix\u001b[0m\u001b[1;33m)\u001b[0m\u001b[1;33m\u001b[0m\u001b[0m\n\u001b[0m",
        "\u001b[1;32m<ipython-input-4-aad82a018e05>\u001b[0m in \u001b[0;36mcluster\u001b[1;34m(k, fea_map, edge_matrix)\u001b[0m\n\u001b[0;32m     24\u001b[0m             \u001b[1;32mprint\u001b[0m \u001b[0mlen\u001b[0m\u001b[1;33m(\u001b[0m\u001b[0mrelated_edges\u001b[0m\u001b[1;33m)\u001b[0m\u001b[1;33m\u001b[0m\u001b[0m\n\u001b[0;32m     25\u001b[0m             \u001b[1;32mfor\u001b[0m \u001b[0mj\u001b[0m \u001b[1;32min\u001b[0m \u001b[0mrelated_edges\u001b[0m\u001b[1;33m:\u001b[0m\u001b[1;33m\u001b[0m\u001b[0m\n\u001b[1;32m---> 26\u001b[1;33m                 \u001b[0mscore\u001b[0m \u001b[1;33m=\u001b[0m \u001b[0msimilarity\u001b[0m\u001b[1;33m(\u001b[0m\u001b[0mcent\u001b[0m\u001b[1;33m,\u001b[0m \u001b[0medge_matrix\u001b[0m\u001b[1;33m[\u001b[0m\u001b[0mj\u001b[0m\u001b[1;33m]\u001b[0m\u001b[1;33m)\u001b[0m\u001b[1;33m\u001b[0m\u001b[0m\n\u001b[0m\u001b[0;32m     27\u001b[0m                 \u001b[1;32mif\u001b[0m \u001b[0mscore\u001b[0m \u001b[1;33m>\u001b[0m \u001b[0msim_scores\u001b[0m\u001b[1;33m[\u001b[0m\u001b[0mj\u001b[0m\u001b[1;33m]\u001b[0m\u001b[1;33m:\u001b[0m\u001b[1;33m\u001b[0m\u001b[0m\n\u001b[0;32m     28\u001b[0m                     \u001b[0msim_scores\u001b[0m\u001b[1;33m[\u001b[0m\u001b[0mj\u001b[0m\u001b[1;33m]\u001b[0m \u001b[1;33m=\u001b[0m \u001b[0mscore\u001b[0m\u001b[1;33m\u001b[0m\u001b[0m\n",
        "\u001b[1;32m<ipython-input-4-aad82a018e05>\u001b[0m in \u001b[0;36msimilarity\u001b[1;34m(v1, v2)\u001b[0m\n\u001b[0;32m      5\u001b[0m \u001b[1;33m\u001b[0m\u001b[0m\n\u001b[0;32m      6\u001b[0m \u001b[1;32mdef\u001b[0m \u001b[0msimilarity\u001b[0m\u001b[1;33m(\u001b[0m\u001b[0mv1\u001b[0m\u001b[1;33m,\u001b[0m \u001b[0mv2\u001b[0m\u001b[1;33m)\u001b[0m\u001b[1;33m:\u001b[0m\u001b[1;33m\u001b[0m\u001b[0m\n\u001b[1;32m----> 7\u001b[1;33m     \u001b[1;32mreturn\u001b[0m \u001b[1;36m1\u001b[0m \u001b[1;33m-\u001b[0m \u001b[0mcosine\u001b[0m\u001b[1;33m(\u001b[0m\u001b[0mv1\u001b[0m\u001b[1;33m,\u001b[0m \u001b[0mv2\u001b[0m\u001b[1;33m)\u001b[0m\u001b[1;33m\u001b[0m\u001b[0m\n\u001b[0m\u001b[0;32m      8\u001b[0m \u001b[1;33m\u001b[0m\u001b[0m\n\u001b[0;32m      9\u001b[0m \u001b[1;32mdef\u001b[0m \u001b[0mcluster\u001b[0m\u001b[1;33m(\u001b[0m\u001b[0mk\u001b[0m\u001b[1;33m,\u001b[0m \u001b[0mfea_map\u001b[0m\u001b[1;33m,\u001b[0m \u001b[0medge_matrix\u001b[0m\u001b[1;33m)\u001b[0m\u001b[1;33m:\u001b[0m\u001b[1;33m\u001b[0m\u001b[0m\n",
        "\u001b[1;32m/usr/lib/python2.7/dist-packages/scipy/spatial/distance.pyc\u001b[0m in \u001b[0;36mcosine\u001b[1;34m(u, v)\u001b[0m\n\u001b[0;32m    289\u001b[0m     \u001b[0mu\u001b[0m \u001b[1;33m=\u001b[0m \u001b[0mnp\u001b[0m\u001b[1;33m.\u001b[0m\u001b[0masarray\u001b[0m\u001b[1;33m(\u001b[0m\u001b[0mu\u001b[0m\u001b[1;33m,\u001b[0m \u001b[0morder\u001b[0m\u001b[1;33m=\u001b[0m\u001b[1;34m'c'\u001b[0m\u001b[1;33m)\u001b[0m\u001b[1;33m\u001b[0m\u001b[0m\n\u001b[0;32m    290\u001b[0m     \u001b[0mv\u001b[0m \u001b[1;33m=\u001b[0m \u001b[0mnp\u001b[0m\u001b[1;33m.\u001b[0m\u001b[0masarray\u001b[0m\u001b[1;33m(\u001b[0m\u001b[0mv\u001b[0m\u001b[1;33m,\u001b[0m \u001b[0morder\u001b[0m\u001b[1;33m=\u001b[0m\u001b[1;34m'c'\u001b[0m\u001b[1;33m)\u001b[0m\u001b[1;33m\u001b[0m\u001b[0m\n\u001b[1;32m--> 291\u001b[1;33m     return (1.0 - (np.dot(u, v.T) / \\\n\u001b[0m\u001b[0;32m    292\u001b[0m                    (np.sqrt(np.dot(u, u.T)) * np.sqrt(np.dot(v, v.T)))))\n\u001b[0;32m    293\u001b[0m \u001b[1;33m\u001b[0m\u001b[0m\n",
        "\u001b[1;31mKeyboardInterrupt\u001b[0m: "
       ]
      },
      {
       "output_type": "stream",
       "stream": "stdout",
       "text": [
        "\n",
        "37925\n"
       ]
      }
     ],
     "prompt_number": 4
    },
    {
     "cell_type": "code",
     "collapsed": false,
     "input": [
      "#construct the user/entity matrix\n",
      "import numpy as np\n",
      "import sys\n",
      "import time\n",
      "\n",
      "def construct_matrix(day_file):\n",
      "    \"\"\"construct np matrix according to the \"\"\"\n",
      "    ut_matrix = None\n",
      "    users = {}\n",
      "    terms = {}\n",
      "    uid = 0\n",
      "    tid = 0\n",
      "    edge_num = 0\n",
      "    feature_edge_map = {}\n",
      "    \n",
      "    with open(day_file) as df: \n",
      "        for line in df:\n",
      "            line = line.strip()\n",
      "            user, entities = line.split(\"|\")\n",
      "            ents = set(entities.split(\" \"))\n",
      "            if user not in users:\n",
      "                users[user] = uid\n",
      "                uid += 1\n",
      "            for t in ents:\n",
      "                edge_num += 1\n",
      "                if t not in terms:\n",
      "                    terms[t] = tid\n",
      "                    tid += 1\n",
      "    user_num = len(users.keys())\n",
      "    term_num = len(terms.keys())\n",
      "    edge_matrix = np.zeros( (edge_num, user_num + term_num) )\n",
      "    \n",
      "    edge_num = 0\n",
      "    with open(day_file) as df:\n",
      "        ut_matrix = np.zeros((user_num, term_num))\n",
      "        for line in df:\n",
      "            line = line.strip()\n",
      "            user, entities = line.split(\"|\")\n",
      "            ents = set(entities.split(\" \"))\n",
      "            uid = users[user]\n",
      "            for t in ents:\n",
      "                if uid not in feature_edge:\n",
      "                    feature_edge[uid] = set()\n",
      "                \n",
      "                tid = terms[t]\n",
      "                ut_matrix[uid][tid] = 1\n",
      "                edge_matrix[edge_num][uid] = 1\n",
      "                edge_matrix[edge_num][tid + user_num - 1] = 1\n",
      "                \n",
      "                t_fid = tid + user_num - 1\n",
      "                if t_fid not in feature_edge:\n",
      "                    feature_edge[t_fid] = set()\n",
      "                feature_edge_map[t_fid].add(edge_num)\n",
      "                feature_edge_map[uid].add(edge_num)\n",
      "                edge_num += 1\n",
      "                \n",
      "    return ut_matrix, users, terms, edge_matrix, feature_edge_map\n",
      "\n",
      "def k_means(k, data_file):\n",
      "    ut_matrix, users, terms = construct_matrix(day_file)\n",
      "start = time.time()           \n",
      "ut_matrix, users, terms, edge_matrix, feature_edge_map = construct_matrix('/raid/tskatom/venezuela_filtered_entities/100/2013-11-01_100')          \n",
      "end = time.time()\n",
      "print end - start"
     ],
     "language": "python",
     "metadata": {},
     "outputs": [
      {
       "ename": "MemoryError",
       "evalue": "",
       "output_type": "pyerr",
       "traceback": [
        "\u001b[1;31m---------------------------------------------------------------------------\u001b[0m\n\u001b[1;31mMemoryError\u001b[0m                               Traceback (most recent call last)",
        "\u001b[1;32m<ipython-input-23-2841e070dd06>\u001b[0m in \u001b[0;36m<module>\u001b[1;34m()\u001b[0m\n\u001b[0;32m     60\u001b[0m     \u001b[0mut_matrix\u001b[0m\u001b[1;33m,\u001b[0m \u001b[0musers\u001b[0m\u001b[1;33m,\u001b[0m \u001b[0mterms\u001b[0m \u001b[1;33m=\u001b[0m \u001b[0mconstruct_matrix\u001b[0m\u001b[1;33m(\u001b[0m\u001b[0mday_file\u001b[0m\u001b[1;33m)\u001b[0m\u001b[1;33m\u001b[0m\u001b[0m\n\u001b[0;32m     61\u001b[0m \u001b[0mstart\u001b[0m \u001b[1;33m=\u001b[0m \u001b[0mtime\u001b[0m\u001b[1;33m.\u001b[0m\u001b[0mtime\u001b[0m\u001b[1;33m(\u001b[0m\u001b[1;33m)\u001b[0m\u001b[1;33m\u001b[0m\u001b[0m\n\u001b[1;32m---> 62\u001b[1;33m \u001b[0mut_matrix\u001b[0m\u001b[1;33m,\u001b[0m \u001b[0musers\u001b[0m\u001b[1;33m,\u001b[0m \u001b[0mterms\u001b[0m\u001b[1;33m,\u001b[0m \u001b[0medge_matrix\u001b[0m\u001b[1;33m,\u001b[0m \u001b[0mfeature_edge_map\u001b[0m \u001b[1;33m=\u001b[0m \u001b[0mconstruct_matrix\u001b[0m\u001b[1;33m(\u001b[0m\u001b[1;34m'/raid/tskatom/venezuela_filtered_entities/100/2013-11-01_100'\u001b[0m\u001b[1;33m)\u001b[0m\u001b[1;33m\u001b[0m\u001b[0m\n\u001b[0m\u001b[0;32m     63\u001b[0m \u001b[0mend\u001b[0m \u001b[1;33m=\u001b[0m \u001b[0mtime\u001b[0m\u001b[1;33m.\u001b[0m\u001b[0mtime\u001b[0m\u001b[1;33m(\u001b[0m\u001b[1;33m)\u001b[0m\u001b[1;33m\u001b[0m\u001b[0m\n\u001b[0;32m     64\u001b[0m \u001b[1;32mprint\u001b[0m \u001b[0mend\u001b[0m \u001b[1;33m-\u001b[0m \u001b[0mstart\u001b[0m\u001b[1;33m\u001b[0m\u001b[0m\n",
        "\u001b[1;32m<ipython-input-23-2841e070dd06>\u001b[0m in \u001b[0;36mconstruct_matrix\u001b[1;34m(day_file)\u001b[0m\n\u001b[0;32m     29\u001b[0m     \u001b[0muser_num\u001b[0m \u001b[1;33m=\u001b[0m \u001b[0mlen\u001b[0m\u001b[1;33m(\u001b[0m\u001b[0musers\u001b[0m\u001b[1;33m.\u001b[0m\u001b[0mkeys\u001b[0m\u001b[1;33m(\u001b[0m\u001b[1;33m)\u001b[0m\u001b[1;33m)\u001b[0m\u001b[1;33m\u001b[0m\u001b[0m\n\u001b[0;32m     30\u001b[0m     \u001b[0mterm_num\u001b[0m \u001b[1;33m=\u001b[0m \u001b[0mlen\u001b[0m\u001b[1;33m(\u001b[0m\u001b[0mterms\u001b[0m\u001b[1;33m.\u001b[0m\u001b[0mkeys\u001b[0m\u001b[1;33m(\u001b[0m\u001b[1;33m)\u001b[0m\u001b[1;33m)\u001b[0m\u001b[1;33m\u001b[0m\u001b[0m\n\u001b[1;32m---> 31\u001b[1;33m     \u001b[0medge_matrix\u001b[0m \u001b[1;33m=\u001b[0m \u001b[0mnp\u001b[0m\u001b[1;33m.\u001b[0m\u001b[0mzeros\u001b[0m\u001b[1;33m(\u001b[0m \u001b[1;33m(\u001b[0m\u001b[0medge_num\u001b[0m\u001b[1;33m,\u001b[0m \u001b[0muser_num\u001b[0m \u001b[1;33m+\u001b[0m \u001b[0mterm_num\u001b[0m\u001b[1;33m)\u001b[0m \u001b[1;33m)\u001b[0m\u001b[1;33m\u001b[0m\u001b[0m\n\u001b[0m\u001b[0;32m     32\u001b[0m \u001b[1;33m\u001b[0m\u001b[0m\n\u001b[0;32m     33\u001b[0m     \u001b[0medge_num\u001b[0m \u001b[1;33m=\u001b[0m \u001b[1;36m0\u001b[0m\u001b[1;33m\u001b[0m\u001b[0m\n",
        "\u001b[1;31mMemoryError\u001b[0m: "
       ]
      }
     ],
     "prompt_number": 23
    },
    {
     "cell_type": "code",
     "collapsed": false,
     "input": [],
     "language": "python",
     "metadata": {},
     "outputs": []
    },
    {
     "cell_type": "code",
     "collapsed": false,
     "input": [
      "\n",
      "\n",
      "def constructFeaEdgeMatch(edge_matrix):\n",
      "    feature_edge = {}\n",
      "    row, col = edge_matrix.shape\n",
      "    for fea_id in xrange(col):\n",
      "        np.where(edge_matrix[:, fea_id] > 0)\n",
      "        if fea_id % 1000 == 0:\n",
      "            print fea_id\n",
      "    print feature_edge\n",
      "                \n",
      "\n",
      "\n",
      "    \n",
      "    \n",
      "    \n",
      "constructFeaEdgeMatch(edge_matrix)\n",
      "#cluster(10, edge_matrix)    \n",
      "print edge_matrix, "
     ],
     "language": "python",
     "metadata": {},
     "outputs": [
      {
       "output_type": "stream",
       "stream": "stdout",
       "text": [
        "0\n",
        "1000"
       ]
      },
      {
       "ename": "KeyboardInterrupt",
       "evalue": "",
       "output_type": "pyerr",
       "traceback": [
        "\u001b[1;31m---------------------------------------------------------------------------\u001b[0m\n\u001b[1;31mKeyboardInterrupt\u001b[0m                         Traceback (most recent call last)",
        "\u001b[1;32m<ipython-input-20-03780a7cfbe4>\u001b[0m in \u001b[0;36m<module>\u001b[1;34m()\u001b[0m\n\u001b[0;32m     35\u001b[0m \u001b[1;33m\u001b[0m\u001b[0m\n\u001b[0;32m     36\u001b[0m \u001b[1;33m\u001b[0m\u001b[0m\n\u001b[1;32m---> 37\u001b[1;33m \u001b[0mconstructFeaEdgeMatch\u001b[0m\u001b[1;33m(\u001b[0m\u001b[0medge_matrix\u001b[0m\u001b[1;33m)\u001b[0m\u001b[1;33m\u001b[0m\u001b[0m\n\u001b[0m\u001b[0;32m     38\u001b[0m \u001b[1;31m#cluster(10, edge_matrix)\u001b[0m\u001b[1;33m\u001b[0m\u001b[1;33m\u001b[0m\u001b[0m\n\u001b[0;32m     39\u001b[0m \u001b[1;32mprint\u001b[0m \u001b[0medge_matrix\u001b[0m\u001b[1;33m,\u001b[0m\u001b[1;33m\u001b[0m\u001b[0m\n",
        "\u001b[1;32m<ipython-input-20-03780a7cfbe4>\u001b[0m in \u001b[0;36mconstructFeaEdgeMatch\u001b[1;34m(edge_matrix)\u001b[0m\n\u001b[0;32m      9\u001b[0m     \u001b[0mrow\u001b[0m\u001b[1;33m,\u001b[0m \u001b[0mcol\u001b[0m \u001b[1;33m=\u001b[0m \u001b[0medge_matrix\u001b[0m\u001b[1;33m.\u001b[0m\u001b[0mshape\u001b[0m\u001b[1;33m\u001b[0m\u001b[0m\n\u001b[0;32m     10\u001b[0m     \u001b[1;32mfor\u001b[0m \u001b[0mfea_id\u001b[0m \u001b[1;32min\u001b[0m \u001b[0mxrange\u001b[0m\u001b[1;33m(\u001b[0m\u001b[0mcol\u001b[0m\u001b[1;33m)\u001b[0m\u001b[1;33m:\u001b[0m\u001b[1;33m\u001b[0m\u001b[0m\n\u001b[1;32m---> 11\u001b[1;33m         \u001b[0mnp\u001b[0m\u001b[1;33m.\u001b[0m\u001b[0mwhere\u001b[0m\u001b[1;33m(\u001b[0m\u001b[0medge_matrix\u001b[0m\u001b[1;33m[\u001b[0m\u001b[1;33m:\u001b[0m\u001b[1;33m,\u001b[0m \u001b[0mfea_id\u001b[0m\u001b[1;33m]\u001b[0m \u001b[1;33m>\u001b[0m \u001b[1;36m0\u001b[0m\u001b[1;33m)\u001b[0m\u001b[1;33m\u001b[0m\u001b[0m\n\u001b[0m\u001b[0;32m     12\u001b[0m         \u001b[1;32mif\u001b[0m \u001b[0mfea_id\u001b[0m \u001b[1;33m%\u001b[0m \u001b[1;36m1000\u001b[0m \u001b[1;33m==\u001b[0m \u001b[1;36m0\u001b[0m\u001b[1;33m:\u001b[0m\u001b[1;33m\u001b[0m\u001b[0m\n\u001b[0;32m     13\u001b[0m             \u001b[1;32mprint\u001b[0m \u001b[0mfea_id\u001b[0m\u001b[1;33m\u001b[0m\u001b[0m\n",
        "\u001b[1;31mKeyboardInterrupt\u001b[0m: "
       ]
      },
      {
       "output_type": "stream",
       "stream": "stdout",
       "text": [
        "\n"
       ]
      }
     ],
     "prompt_number": 20
    },
    {
     "cell_type": "code",
     "collapsed": false,
     "input": [
      "print np.where(edge_matrix[:,0] > 0.0)\n",
      "print edge_matrix[:,0]"
     ],
     "language": "python",
     "metadata": {},
     "outputs": [
      {
       "output_type": "stream",
       "stream": "stdout",
       "text": [
        "(array([0]),)\n",
        "[ 1.  0.  0. ...,  0.  0.  0.]\n"
       ]
      }
     ],
     "prompt_number": 14
    }
   ],
   "metadata": {}
  }
 ]
}